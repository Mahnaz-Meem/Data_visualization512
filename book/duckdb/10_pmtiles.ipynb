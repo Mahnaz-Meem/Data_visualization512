{
  "cells": [
    {
      "cell_type": "markdown",
      "metadata": {
        "id": "ZPDkdCrBKSnp"
      },
      "source": [
        "# Visualizing PMTiles\n",
        "\n",
        "[PMTiles](https://github.com/protomaps/PMTiles) is a single-file archive format for tiled data. A PMTiles archive can be hosted on a common storage platform such as S3, and enables low-cost, zero-maintenance map applications that are \"serverless\" - free of a custom tile backend or third party provider."
      ],
      "id": "ZPDkdCrBKSnp"
    },
    {
      "cell_type": "markdown",
      "metadata": {
        "id": "YNcz8aX5KSnz"
      },
      "source": [
        "## Installation\n",
        "\n",
        "Uncomment and run the following cell to install the dependencies."
      ],
      "id": "YNcz8aX5KSnz"
    },
    {
      "cell_type": "code",
      "execution_count": null,
      "metadata": {
        "id": "y0y9PxduKSn0"
      },
      "outputs": [],
      "source": [
        "# %pip install -U \"leafmap[pmtiles]\""
      ],
      "id": "y0y9PxduKSn0"
    },
    {
      "cell_type": "markdown",
      "metadata": {
        "id": "EL8REEMqKSn3"
      },
      "source": [
        "## Import libraries\n",
        "\n",
        "Currently, ipyleaflet does not support PMTiles. We will use folium mapping backend with leafmap."
      ],
      "id": "EL8REEMqKSn3"
    },
    {
      "cell_type": "code",
      "execution_count": null,
      "metadata": {
        "tags": [],
        "id": "zkra143zKSn4"
      },
      "outputs": [],
      "source": [
        "import leafmap.foliumap as leafmap"
      ],
      "id": "zkra143zKSn4"
    },
    {
      "cell_type": "markdown",
      "metadata": {
        "id": "-mNMIKrWKSn5"
      },
      "source": [
        "## PMTiles Viewer\n",
        "\n",
        "The [PMTiles Viewer](https://protomaps.github.io/PMTiles) can be used to view the contents of a PMTiles archive using a web browser. This is a useful tool for visualizing the contents of a PMTiles archive without writing any code. However, you can't use it with Jupyter notebook."
      ],
      "id": "-mNMIKrWKSn5"
    },
    {
      "cell_type": "markdown",
      "metadata": {
        "id": "WCrCT-pVKSn5"
      },
      "source": [
        "## Remote PMTiles\n",
        "\n",
        "PMTiles can be hosted on a cloud storage platform or locally. In this section, we will visualize a PMTiles hosted on a remote server.\n",
        "\n",
        "### Protomaps sample data\n",
        "\n",
        "The [PMTiles Viewer](https://protomaps.github.io/PMTiles) provides a list of sample PMTiles archives. We will use the [ODbL_firenze.pmtiles](https://protomaps.github.io/PMTiles/protomaps(vector)ODbL_firenze.pmtiles). First, let's inspect the metadata of the PMTiles archive."
      ],
      "id": "WCrCT-pVKSn5"
    },
    {
      "cell_type": "code",
      "execution_count": null,
      "metadata": {
        "tags": [],
        "id": "Q-V4unkDKSn6"
      },
      "outputs": [],
      "source": [
        "url = \"https://protomaps.github.io/PMTiles/protomaps(vector)ODbL_firenze.pmtiles\"\n",
        "metadata = leafmap.pmtiles_metadata(url)\n",
        "metadata"
      ],
      "id": "Q-V4unkDKSn6"
    },
    {
      "cell_type": "markdown",
      "metadata": {
        "id": "0ZO9EJzfKSn7"
      },
      "source": [
        "Get the list of layers."
      ],
      "id": "0ZO9EJzfKSn7"
    },
    {
      "cell_type": "code",
      "execution_count": null,
      "metadata": {
        "tags": [],
        "id": "48KO9bRAKSn8"
      },
      "outputs": [],
      "source": [
        "print(f\"layer names: {metadata['layer_names']}\")"
      ],
      "id": "48KO9bRAKSn8"
    },
    {
      "cell_type": "markdown",
      "metadata": {
        "id": "DCJ5DJ6aKSn9"
      },
      "source": [
        "Get the layer center."
      ],
      "id": "DCJ5DJ6aKSn9"
    },
    {
      "cell_type": "code",
      "execution_count": null,
      "metadata": {
        "tags": [],
        "id": "0V2b_wNrKSn9"
      },
      "outputs": [],
      "source": [
        "print(f\"center: {metadata['center']}\")"
      ],
      "id": "0V2b_wNrKSn9"
    },
    {
      "cell_type": "markdown",
      "metadata": {
        "id": "iuDJFDiwKSn-"
      },
      "source": [
        "Get the layer bounds."
      ],
      "id": "iuDJFDiwKSn-"
    },
    {
      "cell_type": "code",
      "execution_count": null,
      "metadata": {
        "tags": [],
        "id": "MaZA8WjgKSn-"
      },
      "outputs": [],
      "source": [
        "print(f\"bounds: {metadata['bounds']}\")"
      ],
      "id": "MaZA8WjgKSn-"
    },
    {
      "cell_type": "markdown",
      "metadata": {
        "id": "s1vrB9CSKSn-"
      },
      "source": [
        "Visualize the layer with the default style."
      ],
      "id": "s1vrB9CSKSn-"
    },
    {
      "cell_type": "code",
      "execution_count": null,
      "metadata": {
        "tags": [],
        "id": "Egr-4cSfKSn-"
      },
      "outputs": [],
      "source": [
        "style = leafmap.pmtiles_style(url, cmap='Set3')\n",
        "style"
      ],
      "id": "Egr-4cSfKSn-"
    },
    {
      "cell_type": "code",
      "execution_count": null,
      "metadata": {
        "tags": [],
        "id": "rewM0ubqKSn_"
      },
      "outputs": [],
      "source": [
        "m = leafmap.Map()\n",
        "m.add_basemap('CartoDB.DarkMatter')\n",
        "m.add_pmtiles(\n",
        "    url,\n",
        "    name='PMTiles',\n",
        "    style=style,\n",
        "    zoom_to_layer=True,\n",
        "    tooltip=False,\n",
        ")\n",
        "m"
      ],
      "id": "rewM0ubqKSn_"
    },
    {
      "cell_type": "markdown",
      "metadata": {
        "id": "VDwI-so_KSn_"
      },
      "source": [
        "Visualize the layer with a custom style."
      ],
      "id": "VDwI-so_KSn_"
    },
    {
      "cell_type": "code",
      "execution_count": null,
      "metadata": {
        "tags": [],
        "id": "1i87sk4NKSn_"
      },
      "outputs": [],
      "source": [
        "m = leafmap.Map()\n",
        "\n",
        "style = {\n",
        "    \"version\": 8,\n",
        "    \"sources\": {\n",
        "        \"example_source\": {\n",
        "            \"type\": \"vector\",\n",
        "            \"url\": \"pmtiles://\" + url,\n",
        "            \"attribution\": 'PMTiles',\n",
        "        }\n",
        "    },\n",
        "    \"layers\": [\n",
        "        {\n",
        "            \"id\": \"buildings\",\n",
        "            \"source\": \"example_source\",\n",
        "            \"source-layer\": \"landuse\",\n",
        "            \"type\": \"fill\",\n",
        "            \"paint\": {\"fill-color\": \"steelblue\"},\n",
        "        },\n",
        "        {\n",
        "            \"id\": \"roads\",\n",
        "            \"source\": \"example_source\",\n",
        "            \"source-layer\": \"roads\",\n",
        "            \"type\": \"line\",\n",
        "            \"paint\": {\"line-color\": \"black\"},\n",
        "        },\n",
        "    ],\n",
        "}\n",
        "\n",
        "m.add_pmtiles(\n",
        "    url, name='PMTiles', style=style, zoom_to_layer=True, tooltip=True\n",
        ")\n",
        "m"
      ],
      "id": "1i87sk4NKSn_"
    },
    {
      "cell_type": "markdown",
      "metadata": {
        "id": "vfEKrBUuKSoA"
      },
      "source": [
        "### Overture data"
      ],
      "id": "vfEKrBUuKSoA"
    },
    {
      "cell_type": "markdown",
      "metadata": {
        "id": "sJ9NSGF8KSoA"
      },
      "source": [
        "You can also visualize [Overture data](https://overturemaps.org/). First, let's inspect the metadata of the PMTiles archive."
      ],
      "id": "sJ9NSGF8KSoA"
    },
    {
      "cell_type": "code",
      "execution_count": null,
      "metadata": {
        "tags": [],
        "id": "txHLknoYKSoA"
      },
      "outputs": [],
      "source": [
        "url = \"https://storage.googleapis.com/ahp-research/overture/pmtiles/overture.pmtiles\"\n",
        "metadata = leafmap.pmtiles_metadata(url)\n",
        "print(f\"layer names: {metadata['layer_names']}\")\n",
        "print(f\"bounds: {metadata['bounds']}\")"
      ],
      "id": "txHLknoYKSoA"
    },
    {
      "cell_type": "markdown",
      "metadata": {
        "id": "3kaPrkDNKSoA"
      },
      "source": [
        "Visualize the layer with the default style."
      ],
      "id": "3kaPrkDNKSoA"
    },
    {
      "cell_type": "code",
      "execution_count": null,
      "metadata": {
        "tags": [],
        "id": "bD4gpwSjKSoB"
      },
      "outputs": [],
      "source": [
        "m = leafmap.Map(height='800px')\n",
        "m.add_basemap('CartoDB.DarkMatter')\n",
        "m.add_pmtiles(url, name='PMTiles', tooltip=False)\n",
        "m"
      ],
      "id": "bD4gpwSjKSoB"
    },
    {
      "cell_type": "markdown",
      "metadata": {
        "id": "yXD_VK2cKSoB"
      },
      "source": [
        "Visualize the layer with a custom style."
      ],
      "id": "yXD_VK2cKSoB"
    },
    {
      "cell_type": "code",
      "execution_count": null,
      "metadata": {
        "tags": [],
        "id": "ffY4YU3xKSoB"
      },
      "outputs": [],
      "source": [
        "m = leafmap.Map(height='800px')\n",
        "m.add_basemap('CartoDB.DarkMatter')\n",
        "\n",
        "style = {\n",
        "    \"version\": 8,\n",
        "    \"sources\": {\n",
        "        \"example_source\": {\n",
        "            \"type\": \"vector\",\n",
        "            \"url\": \"pmtiles://\" + url,\n",
        "            \"attribution\": 'PMTiles',\n",
        "        }\n",
        "    },\n",
        "    \"layers\": [\n",
        "        {\n",
        "            \"id\": \"admins\",\n",
        "            \"source\": \"example_source\",\n",
        "            \"source-layer\": \"admins\",\n",
        "            \"type\": \"fill\",\n",
        "            \"paint\": {\"fill-color\": \"#BDD3C7\", \"fill-opacity\": 0.1},\n",
        "        },\n",
        "        {\n",
        "            \"id\": \"buildings\",\n",
        "            \"source\": \"example_source\",\n",
        "            \"source-layer\": \"buildings\",\n",
        "            \"type\": \"fill\",\n",
        "            \"paint\": {\"fill-color\": \"#FFFFB3\", \"fill-opacity\": 0.5},\n",
        "        },\n",
        "        {\n",
        "            \"id\": \"places\",\n",
        "            \"source\": \"example_source\",\n",
        "            \"source-layer\": \"places\",\n",
        "            \"type\": \"fill\",\n",
        "            \"paint\": {\"fill-color\": \"#BEBADA\", \"fill-opacity\": 0.5},\n",
        "        },\n",
        "        {\n",
        "            \"id\": \"roads\",\n",
        "            \"source\": \"example_source\",\n",
        "            \"source-layer\": \"roads\",\n",
        "            \"type\": \"line\",\n",
        "            \"paint\": {\"line-color\": \"#FB8072\"},\n",
        "        },\n",
        "    ],\n",
        "}\n",
        "\n",
        "m.add_pmtiles(url, name='PMTiles', style=style, tooltip=False)\n",
        "\n",
        "legend_dict = {\n",
        "    'admins': 'BDD3C7',\n",
        "    'buildings': 'FFFFB3',\n",
        "    'places': 'BEBADA',\n",
        "    'roads': 'FB8072',\n",
        "}\n",
        "\n",
        "m.add_legend(legend_dict=legend_dict)\n",
        "m"
      ],
      "id": "ffY4YU3xKSoB"
    },
    {
      "cell_type": "markdown",
      "metadata": {
        "id": "ZWU5Z8hPKSoC"
      },
      "source": [
        "### Source Cooperative\n",
        "\n",
        "[Source Cooperative](https://source.coop) hosts a variety of open geospatial data in PMTiles format. In this example, we will visualize the [Google-Microsoft Open Buildings](https://beta.source.coop/repositories/vida/google-microsoft-open-buildings/description) dataset (193.9 GB). First, let's inspect the metadata of the PMTiles archive."
      ],
      "id": "ZWU5Z8hPKSoC"
    },
    {
      "cell_type": "code",
      "execution_count": null,
      "metadata": {
        "tags": [],
        "id": "ThWGpeloKSoC"
      },
      "outputs": [],
      "source": [
        "url = 'https://data.source.coop/vida/google-microsoft-open-buildings/pmtiles/go_ms_building_footprints.pmtiles'\n",
        "metadata = leafmap.pmtiles_metadata(url)\n",
        "print(f\"layer names: {metadata['layer_names']}\")\n",
        "print(f\"bounds: {metadata['bounds']}\")"
      ],
      "id": "ThWGpeloKSoC"
    },
    {
      "cell_type": "code",
      "execution_count": null,
      "metadata": {
        "tags": [],
        "id": "SZflxeDcKSoC"
      },
      "outputs": [],
      "source": [
        "m = leafmap.Map(center=[20, 0], zoom=2, height='800px')\n",
        "m.add_basemap('CartoDB.DarkMatter')\n",
        "m.add_basemap('Esri.WorldImagery', show=False)\n",
        "\n",
        "style = {\n",
        "    \"version\": 8,\n",
        "    \"sources\": {\n",
        "        \"example_source\": {\n",
        "            \"type\": \"vector\",\n",
        "            \"url\": \"pmtiles://\" + url,\n",
        "            \"attribution\": 'PMTiles',\n",
        "        }\n",
        "    },\n",
        "    \"layers\": [\n",
        "        {\n",
        "            \"id\": \"buildings\",\n",
        "            \"source\": \"example_source\",\n",
        "            \"source-layer\": \"building_footprints\",\n",
        "            \"type\": \"fill\",\n",
        "            \"paint\": {\"fill-color\": \"#3388ff\", \"fill-opacity\": 0.5},\n",
        "        },\n",
        "    ],\n",
        "}\n",
        "\n",
        "m.add_pmtiles(\n",
        "    url, name='Buildings', style=style, tooltip=False\n",
        ")\n",
        "\n",
        "html = \"Source: <a href='https://beta.source.coop/repositories/vida/google-microsoft-open-buildings/description' target='_blank'>source.coop</a>\"\n",
        "m.add_html(html, position='bottomright')\n",
        "\n",
        "m"
      ],
      "id": "SZflxeDcKSoC"
    },
    {
      "cell_type": "code",
      "execution_count": null,
      "metadata": {
        "id": "nHaj2PDEKSoC"
      },
      "outputs": [],
      "source": [
        "m.save('buildings.html')"
      ],
      "id": "nHaj2PDEKSoC"
    },
    {
      "cell_type": "markdown",
      "metadata": {
        "id": "STYAsJfcKSoD"
      },
      "source": [
        "## Local PMTiles\n",
        "\n",
        "tippecanoe is required to convert vector data to pmtiles. Install it with `mamba install -c conda-forge tippecanoe`.\n",
        "\n",
        "Download [building footprints](https://github.com/opengeos/open-data/blob/main/datasets/libya/Derna_buildings.geojson) of Derna, Libya."
      ],
      "id": "STYAsJfcKSoD"
    },
    {
      "cell_type": "code",
      "execution_count": null,
      "metadata": {
        "tags": [],
        "id": "yCFcYBRCKSoD"
      },
      "outputs": [],
      "source": [
        "url = 'https://raw.githubusercontent.com/opengeos/open-data/main/datasets/libya/Derna_buildings.geojson'\n",
        "leafmap.download_file(url, 'buildings.geojson')"
      ],
      "id": "yCFcYBRCKSoD"
    },
    {
      "cell_type": "markdown",
      "metadata": {
        "id": "OP4rtTtxKSoD"
      },
      "source": [
        "Convert vector to PMTiles."
      ],
      "id": "OP4rtTtxKSoD"
    },
    {
      "cell_type": "code",
      "execution_count": null,
      "metadata": {
        "tags": [],
        "id": "FYtr79nYKSoD"
      },
      "outputs": [],
      "source": [
        "pmtiles = 'buildings.pmtiles'\n",
        "leafmap.geojson_to_pmtiles(\n",
        "    'buildings.geojson',\n",
        "    pmtiles,\n",
        "    layer_name='buildings',\n",
        "    overwrite=True,\n",
        "    quiet=True\n",
        ")"
      ],
      "id": "FYtr79nYKSoD"
    },
    {
      "cell_type": "markdown",
      "metadata": {
        "id": "uscL0v_MKSoE"
      },
      "source": [
        "Start a HTTP Sever"
      ],
      "id": "uscL0v_MKSoE"
    },
    {
      "cell_type": "code",
      "execution_count": null,
      "metadata": {
        "tags": [],
        "id": "q7OFEVcdKSoE"
      },
      "outputs": [],
      "source": [
        "leafmap.start_server(port=8000)"
      ],
      "id": "q7OFEVcdKSoE"
    },
    {
      "cell_type": "code",
      "execution_count": null,
      "metadata": {
        "tags": [],
        "id": "g9kYa_NwKSoE"
      },
      "outputs": [],
      "source": [
        "url = f'http://127.0.0.1:8000/{pmtiles}'\n",
        "# leafmap.pmtiles_metadata(url)"
      ],
      "id": "g9kYa_NwKSoE"
    },
    {
      "cell_type": "markdown",
      "metadata": {
        "id": "2Kh_mhRuKSoE"
      },
      "source": [
        "Diplay the PMTiles on the map."
      ],
      "id": "2Kh_mhRuKSoE"
    },
    {
      "cell_type": "code",
      "execution_count": null,
      "metadata": {
        "tags": [],
        "id": "fBQv0pHwKSoE"
      },
      "outputs": [],
      "source": [
        "m = leafmap.Map()\n",
        "m.add_basemap('CartoDB.DarkMatter')\n",
        "m.add_basemap('SATELLITE')\n",
        "\n",
        "style = {\n",
        "    \"version\": 8,\n",
        "    \"sources\": {\n",
        "        \"example_source\": {\n",
        "            \"type\": \"vector\",\n",
        "            \"url\": \"pmtiles://\" + url,\n",
        "            \"attribution\": 'PMTiles',\n",
        "        }\n",
        "    },\n",
        "    \"layers\": [\n",
        "        {\n",
        "            \"id\": \"buildings\",\n",
        "            \"source\": \"example_source\",\n",
        "            \"source-layer\": \"buildings\",\n",
        "            \"type\": \"fill\",\n",
        "            \"paint\": {\"fill-color\": \"#3388ff\", \"fill-opacity\": 0.5},\n",
        "        },\n",
        "    ],\n",
        "}\n",
        "\n",
        "# style = leafmap.pmtiles_style(url)  # Use default style\n",
        "\n",
        "m.add_pmtiles(url, name='Buildings', show=True, zoom_to_layer=True, style=style)\n",
        "m"
      ],
      "id": "fBQv0pHwKSoE"
    }
  ],
  "metadata": {
    "kernelspec": {
      "display_name": "Python 3 (ipykernel)",
      "language": "python",
      "name": "python3"
    },
    "language_info": {
      "codemirror_mode": {
        "name": "ipython",
        "version": 3
      },
      "file_extension": ".py",
      "mimetype": "text/x-python",
      "name": "python",
      "nbconvert_exporter": "python",
      "pygments_lexer": "ipython3",
      "version": "3.11.5"
    },
    "colab": {
      "provenance": []
    }
  },
  "nbformat": 4,
  "nbformat_minor": 5
}